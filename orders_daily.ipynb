{
 "cells": [
  {
   "cell_type": "code",
   "execution_count": 0,
   "metadata": {
    "application/vnd.databricks.v1+cell": {
     "cellMetadata": {},
     "inputWidgets": {},
     "nuid": "5a6df267-02e4-4a93-ba28-a314bc48709c",
     "showTitle": true,
     "tableResultSettingsMap": {},
     "title": "Paraeters"
    }
   },
   "outputs": [],
   "source": [
    "catalog = dbutils.widgets.get('catalog')\n",
    "schema = dbutils.widgets.get('schema')\n",
    "print(f'''\n",
    "catalog : {catalog}   \n",
    "schema  : {schema}\n",
    "''')"
   ]
  },
  {
   "cell_type": "code",
   "execution_count": 0,
   "metadata": {
    "application/vnd.databricks.v1+cell": {
     "cellMetadata": {},
     "inputWidgets": {},
     "nuid": "4d69b35f-271f-4e46-934f-6f4fe8ceda38",
     "showTitle": true,
     "tableResultSettingsMap": {},
     "title": "Agg"
    }
   },
   "outputs": [],
   "source": [
    "import pyspark.sql.functions as f\n",
    "sdf_etl = (\n",
    "    spark\n",
    "    .read\n",
    "    .table('{{catalog}}.{{schema}}'))\n",
    "\n",
    "sdf_agg = (\n",
    "    sdf_etl\n",
    "    .groupBy(f.col('order_datetime').cast('date'))\n",
    "    .agg(f.count('*').alias('n_orders'))\n",
    ")\n",
    "display(sdf_agg.limit(5))"
   ]
  },
  {
   "cell_type": "code",
   "execution_count": 0,
   "metadata": {
    "application/vnd.databricks.v1+cell": {
     "cellMetadata": {},
     "inputWidgets": {},
     "nuid": "a235bab4-dcb7-452d-ac92-42abc65b243f",
     "showTitle": true,
     "tableResultSettingsMap": {},
     "title": "Write Out"
    }
   },
   "outputs": [],
   "source": [
    "sdf_agg.write.mode('overwrite').saveAsTable(f'{catalog}.{schema}')"
   ]
  }
 ],
 "metadata": {
  "application/vnd.databricks.v1+notebook": {
   "computePreferences": null,
   "dashboards": [],
   "environmentMetadata": {
    "base_environment": "",
    "environment_version": "2"
   },
   "inputWidgetPreferences": null,
   "language": "python",
   "notebookMetadata": {
    "pythonIndentUnit": 4
   },
   "notebookName": "orders_daily",
   "widgets": {}
  },
  "language_info": {
   "name": "python"
  }
 },
 "nbformat": 4,
 "nbformat_minor": 0
}
