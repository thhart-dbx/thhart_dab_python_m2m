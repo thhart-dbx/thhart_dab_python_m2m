{
 "cells": [
  {
   "cell_type": "code",
   "execution_count": 0,
   "metadata": {
    "application/vnd.databricks.v1+cell": {
     "cellMetadata": {},
     "inputWidgets": {},
     "nuid": "b4d4523f-8db9-487d-b165-dbfe768f81f3",
     "showTitle": true,
     "tableResultSettingsMap": {},
     "title": "Parameters"
    }
   },
   "outputs": [],
   "source": [
    "catalog = dbutils.widgets.get('catalog')\n",
    "schema = dbutils.widgets.get('schema')\n",
    "print(f'''\n",
    "catalog : {catalog}   \n",
    "schema  : {schema}\n",
    "''')"
   ]
  },
  {
   "cell_type": "code",
   "execution_count": 0,
   "metadata": {
    "application/vnd.databricks.v1+cell": {
     "cellMetadata": {},
     "inputWidgets": {},
     "nuid": "d698287b-2dc4-4305-9dfc-0ed720354c5a",
     "showTitle": true,
     "tableResultSettingsMap": {},
     "title": "ETL"
    }
   },
   "outputs": [],
   "source": [
    "import pyspark.sql.functions as f\n",
    "sdf = (\n",
    "    spark\n",
    "    .read\n",
    "    .format('json')\n",
    "    .load('/databricks-datasets/retail-org/sales_orders')\n",
    "    .select(\n",
    "        'customer_id'\n",
    "        , 'order_number'\n",
    "        , f.expr('from_unixtime(try_cast(order_datetime as bigint))').alias('order_datetime')))\n",
    "display(sdf.limit(5))"
   ]
  },
  {
   "cell_type": "code",
   "execution_count": 0,
   "metadata": {
    "application/vnd.databricks.v1+cell": {
     "cellMetadata": {},
     "inputWidgets": {},
     "nuid": "b423e52a-5eab-4eca-bda4-bb27fd15bf79",
     "showTitle": true,
     "tableResultSettingsMap": {},
     "title": "Write Out"
    }
   },
   "outputs": [],
   "source": [
    "sdf.write.mode('overwrite').saveAsTable(f'{catalog}.{schema}')"
   ]
  }
 ],
 "metadata": {
  "application/vnd.databricks.v1+notebook": {
   "computePreferences": null,
   "dashboards": [],
   "environmentMetadata": {
    "base_environment": "",
    "environment_version": "2"
   },
   "inputWidgetPreferences": null,
   "language": "python",
   "notebookMetadata": {
    "pythonIndentUnit": 4
   },
   "notebookName": "orders_raw",
   "widgets": {}
  },
  "language_info": {
   "name": "python"
  }
 },
 "nbformat": 4,
 "nbformat_minor": 0
}
