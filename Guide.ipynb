{
 "cells": [
  {
   "cell_type": "markdown",
   "metadata": {
    "application/vnd.databricks.v1+cell": {
     "cellMetadata": {},
     "inputWidgets": {},
     "nuid": "ef579585-36f1-4e24-9886-bac7b06a941f",
     "showTitle": false,
     "tableResultSettingsMap": {},
     "title": ""
    }
   },
   "source": [
    "## DABs from the Ground Up"
   ]
  },
  {
   "cell_type": "markdown",
   "metadata": {
    "application/vnd.databricks.v1+cell": {
     "cellMetadata": {},
     "inputWidgets": {},
     "nuid": "2d16a6b9-cfdc-4b55-8a4c-84b4e1c88f3c",
     "showTitle": false,
     "tableResultSettingsMap": {},
     "title": ""
    }
   },
   "source": [
    "### 1. Create a `databricks.yml` file\n",
    "```yaml\n",
    "bundle:\n",
    "  name: thhart_dab_python\n",
    "\n",
    "include:\n",
    "  - ./*.job.yml\n",
    "\n",
    "# specify variables but do not assign values\n",
    "variables:\n",
    "  warehouse_id: \n",
    "    description: The warehouse to use\n",
    "  catalog: \n",
    "    description: The catalog to use\n",
    "  schema:\n",
    "    description: The schema to use\n",
    "\n",
    "# specify variables values in targets\n",
    "targets:\n",
    "  \n",
    "  # where do we want to develop\n",
    "  thhart_target_dev:\n",
    "    mode: development\n",
    "    default: true\n",
    "    workspace: \n",
    "      host: https://dbc-446db140-571a.cloud.databricks.com\n",
    "    variables:\n",
    "      catalog: thhart\n",
    "      schema: dab_python_dev\n",
    "  \n",
    "  # where do we want to run in production\n",
    "  thhart_target_prod:\n",
    "    mode: production\n",
    "    workspace: \n",
    "      host: https://dbc-446db140-571a.cloud.databricks.com\n",
    "    variables:\n",
    "      catalog: thhart\n",
    "      schema: dab_python_prod\n",
    "```"
   ]
  },
  {
   "cell_type": "code",
   "execution_count": 0,
   "metadata": {
    "application/vnd.databricks.v1+cell": {
     "cellMetadata": {
      "byteLimit": 2048000,
      "implicitDf": true,
      "rowLimit": 10000
     },
     "inputWidgets": {},
     "nuid": "2d9ed2a9-f188-42dd-9b05-c19b2000e685",
     "showTitle": true,
     "tableResultSettingsMap": {},
     "title": "Create Catalog & Schemas"
    }
   },
   "outputs": [],
   "source": [
    "%sql \n",
    "create catalog if not exists thhart;\n",
    "create schema if not exists thhart.dab_python_dev;\n",
    "create schema if not exists thhart.dab_python_prod;"
   ]
  },
  {
   "cell_type": "markdown",
   "metadata": {
    "application/vnd.databricks.v1+cell": {
     "cellMetadata": {},
     "inputWidgets": {},
     "nuid": "006efdec-e3d2-4588-aebb-df363cc0393c",
     "showTitle": false,
     "tableResultSettingsMap": {},
     "title": ""
    }
   },
   "source": [
    "### 2. Explore Data"
   ]
  },
  {
   "cell_type": "code",
   "execution_count": 0,
   "metadata": {
    "application/vnd.databricks.v1+cell": {
     "cellMetadata": {
      "byteLimit": 2048000,
      "implicitDf": true,
      "rowLimit": 10000
     },
     "inputWidgets": {},
     "nuid": "44800a2a-0233-4e43-a4db-aa606a1440c0",
     "showTitle": true,
     "tableResultSettingsMap": {},
     "title": "View Files"
    }
   },
   "outputs": [],
   "source": [
    "%sql list '/databricks-datasets/retail-org/sales_orders'"
   ]
  },
  {
   "cell_type": "code",
   "execution_count": 0,
   "metadata": {
    "application/vnd.databricks.v1+cell": {
     "cellMetadata": {
      "byteLimit": 2048000,
      "rowLimit": 10000
     },
     "inputWidgets": {},
     "nuid": "8266aa1a-f779-448d-8159-8160ff777a38",
     "showTitle": true,
     "tableResultSettingsMap": {},
     "title": "Visualize Data"
    }
   },
   "outputs": [],
   "source": [
    "sdf = (\n",
    "    spark\n",
    "    .read\n",
    "    .format('json')\n",
    "    .load('/databricks-datasets/retail-org/sales_orders')\n",
    "    .limit(5))\n",
    "display(sdf)"
   ]
  },
  {
   "cell_type": "markdown",
   "metadata": {
    "application/vnd.databricks.v1+cell": {
     "cellMetadata": {},
     "inputWidgets": {},
     "nuid": "0af631f4-a223-454f-9e83-130720e728f0",
     "showTitle": false,
     "tableResultSettingsMap": {},
     "title": ""
    }
   },
   "source": [
    "### 3. Create Logic"
   ]
  },
  {
   "cell_type": "code",
   "execution_count": 0,
   "metadata": {
    "application/vnd.databricks.v1+cell": {
     "cellMetadata": {
      "byteLimit": 2048000,
      "rowLimit": 10000
     },
     "inputWidgets": {},
     "nuid": "6836150a-4a80-4864-a9f7-2a48ec3176cf",
     "showTitle": true,
     "tableResultSettingsMap": {},
     "title": "ETL: Orders"
    }
   },
   "outputs": [],
   "source": [
    "import pyspark.sql.functions as f\n",
    "sdf_etl = (\n",
    "    spark\n",
    "    .read\n",
    "    .format('json')\n",
    "    .load('/databricks-datasets/retail-org/sales_orders')\n",
    "    # .withColumn('order_datetime',)\n",
    "    .select(\n",
    "        'customer_id'\n",
    "        , 'order_number'\n",
    "        , f.expr('from_unixtime(try_cast(order_datetime as bigint))').alias('order_datetime')))\n",
    "display(sdf_etl.limit(5))"
   ]
  },
  {
   "cell_type": "code",
   "execution_count": 0,
   "metadata": {
    "application/vnd.databricks.v1+cell": {
     "cellMetadata": {
      "byteLimit": 2048000,
      "rowLimit": 10000
     },
     "inputWidgets": {},
     "nuid": "936d580c-7a37-4018-bce8-7d34bee41674",
     "showTitle": true,
     "tableResultSettingsMap": {},
     "title": "Agg: Orders by Day"
    }
   },
   "outputs": [],
   "source": [
    "import pyspark.sql.functions as f\n",
    "sdf_agg = (\n",
    "    sdf_etl\n",
    "    .groupBy(f.col('order_datetime').cast('date'))\n",
    "    .agg(f.count('*').alias('n_orders'))\n",
    ")\n",
    "display(sdf_agg.limit(5))"
   ]
  },
  {
   "cell_type": "markdown",
   "metadata": {
    "application/vnd.databricks.v1+cell": {
     "cellMetadata": {},
     "inputWidgets": {},
     "nuid": "ad668960-043f-4a1c-a1dd-7d657e99a69b",
     "showTitle": false,
     "tableResultSettingsMap": {},
     "title": ""
    }
   },
   "source": [
    "### 4. Link SQL Together\n",
    "Two way to achieve this\n",
    "* Use interface to create a job and copy yaml\n",
    "* Write yaml \n",
    "* Jobs\n",
    "```yaml\n",
    "resources:\n",
    "  jobs:\n",
    "    thhart_dab_python_job_yml:\n",
    "      name: thhart_dab_python_job_yml\n",
    "\n",
    "      trigger:\n",
    "          interval: 1\n",
    "          unit: DAYS\n",
    "      \n",
    "      email_notifications:\n",
    "        on_failure:\n",
    "          - thomas.hart@databricks.com\n",
    "\n",
    "      parameters:\n",
    "        - name: catalog\n",
    "          default: ${var.catalog}\n",
    "        - name: schema\n",
    "          default: ${var.schema}\n",
    "        - name: bundle_target\n",
    "          default: ${bundle.target}\n",
    "\n",
    "      tasks:\n",
    "        - task_key: orders_raw\n",
    "          notebook_task:\n",
    "            notebook_path: ./orders_raw\n",
    "            \n",
    "        - task_key: orders_daily\n",
    "          notebook_task:\n",
    "            notebook_path: ./orders_daily\n",
    "```"
   ]
  },
  {
   "cell_type": "markdown",
   "metadata": {
    "application/vnd.databricks.v1+cell": {
     "cellMetadata": {},
     "inputWidgets": {},
     "nuid": "0d3e6921-c6e6-4ee0-a82f-d4b12ba2cae5",
     "showTitle": false,
     "tableResultSettingsMap": {},
     "title": ""
    }
   },
   "source": [
    "### Create GitHub Actions\n",
    "1. In Databricks, create PAT\n",
    "2. In Github, add PAT to Repository Secretes\n",
    "3. Create `.github/workflows/deploy_to_dev_workflow.yml`"
   ]
  }
 ],
 "metadata": {
  "application/vnd.databricks.v1+notebook": {
   "computePreferences": null,
   "dashboards": [],
   "environmentMetadata": {
    "base_environment": "",
    "environment_version": "2"
   },
   "inputWidgetPreferences": null,
   "language": "python",
   "notebookMetadata": {
    "mostRecentlyExecutedCommandWithImplicitDF": {
     "commandId": 7998081928014623,
     "dataframes": [
      "_sqldf"
     ]
    },
    "pythonIndentUnit": 4
   },
   "notebookName": "Guide",
   "widgets": {}
  },
  "language_info": {
   "name": "python"
  }
 },
 "nbformat": 4,
 "nbformat_minor": 0
}
